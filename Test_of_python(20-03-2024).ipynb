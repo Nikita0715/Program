{
 "cells": [
  {
   "cell_type": "markdown",
   "id": "eaa45fd6",
   "metadata": {},
   "source": [
    "# Q.1 Write a Python program to check if a string is a palindrome?"
   ]
  },
  {
   "cell_type": "code",
   "execution_count": 7,
   "id": "10ea0ac2",
   "metadata": {},
   "outputs": [],
   "source": [
    "def check_string_palindrome(string):\n",
    "    reverse_string = string[::-1]\n",
    "    if(string == reverse_string):\n",
    "        return True\n",
    "    else:\n",
    "        return False"
   ]
  },
  {
   "cell_type": "code",
   "execution_count": 8,
   "id": "95fc5d68",
   "metadata": {},
   "outputs": [
    {
     "name": "stdout",
     "output_type": "stream",
     "text": [
      "Enter the string :madam\n",
      "Given string is a palindrome.\n"
     ]
    }
   ],
   "source": [
    "string = input(\"Enter the string :\")\n",
    "if check_string_palindrome(string):\n",
    "    print(\"Given string is a palindrome.\")\n",
    "else:\n",
    "    print(\"Given string is not a palindrome.\")\n",
    "    \n"
   ]
  },
  {
   "cell_type": "markdown",
   "id": "654982ce",
   "metadata": {},
   "source": [
    "# Q.2 Write a Python program to find the factorial of a number?"
   ]
  },
  {
   "cell_type": "code",
   "execution_count": 38,
   "id": "6ea59315",
   "metadata": {},
   "outputs": [],
   "source": [
    "def find_factorial(n):\n",
    "    fact = 1\n",
    "    for i in range(1,n+1):\n",
    "        fact*=  i \n",
    "    return fact"
   ]
  },
  {
   "cell_type": "code",
   "execution_count": 43,
   "id": "44beddc4",
   "metadata": {},
   "outputs": [
    {
     "name": "stdout",
     "output_type": "stream",
     "text": [
      "enter the number:5\n"
     ]
    },
    {
     "data": {
      "text/plain": [
       "120"
      ]
     },
     "execution_count": 43,
     "metadata": {},
     "output_type": "execute_result"
    }
   ],
   "source": [
    "n = int(input(\"enter the number:\"))\n",
    "find_factorial(n)"
   ]
  },
  {
   "cell_type": "markdown",
   "id": "e94bff45",
   "metadata": {},
   "source": [
    "# Q.3 Write a Python program to find the largest element in a list?"
   ]
  },
  {
   "cell_type": "code",
   "execution_count": 49,
   "id": "1e931817",
   "metadata": {},
   "outputs": [
    {
     "name": "stdout",
     "output_type": "stream",
     "text": [
      "enter the size of list5\n",
      "enter the value1\n",
      "enter the value20\n",
      "enter the value45\n",
      "enter the value89\n",
      "enter the value78\n",
      "[1, 20, 45, 89, 78]\n",
      "largest element in a list is  89\n"
     ]
    }
   ],
   "source": [
    "a = []\n",
    "size = int(input(\"enter the size of list\"))\n",
    "\n",
    "for i in range(size):\n",
    "    x = int(input(\"enter the value\"))\n",
    "    a.append(x)\n",
    "    max_number = max(a)\n",
    "print(a)\n",
    "print(\"largest element in a list is \", max_number)"
   ]
  },
  {
   "cell_type": "markdown",
   "id": "8178d5a4",
   "metadata": {},
   "source": [
    "# Q.4  Write a Python program to reverse a string?"
   ]
  },
  {
   "cell_type": "code",
   "execution_count": 50,
   "id": "9e8a71d4",
   "metadata": {},
   "outputs": [],
   "source": [
    "def reverse_string(string):\n",
    "    reverse_string = string[::-1]\n",
    "    print(reverse_string)\n",
    "    "
   ]
  },
  {
   "cell_type": "code",
   "execution_count": 51,
   "id": "c2701139",
   "metadata": {},
   "outputs": [
    {
     "name": "stdout",
     "output_type": "stream",
     "text": [
      "dcba\n"
     ]
    }
   ],
   "source": [
    "string = \"abcd\"\n",
    "reverse_string(string)"
   ]
  },
  {
   "cell_type": "markdown",
   "id": "9a0c788c",
   "metadata": {},
   "source": [
    "# Q.5 Write a Python program to count the frequency of each element in a list?"
   ]
  },
  {
   "cell_type": "code",
   "execution_count": 106,
   "id": "c9f8b05f",
   "metadata": {},
   "outputs": [
    {
     "name": "stdout",
     "output_type": "stream",
     "text": [
      "The frequency of 1 is 2\n",
      "The frequency of 2 is 2\n",
      "The frequency of 3 is 3\n",
      "The frequency of 7 is 2\n",
      "The frequency of 9 is 1\n"
     ]
    }
   ],
   "source": [
    "a = [1,2,3,3,1,3,7,2,7,9]\n",
    "b = []\n",
    "for i in range(len(a)):\n",
    "    \n",
    "    if a[i] not in b:  \n",
    "        b.append(a[i])\n",
    "        freq = a.count(a[i]) \n",
    "        print(f\"The frequency of {a[i]} is {freq}\")"
   ]
  },
  {
   "cell_type": "code",
   "execution_count": 105,
   "id": "9b157bea",
   "metadata": {},
   "outputs": [
    {
     "name": "stdout",
     "output_type": "stream",
     "text": [
      "The frequency of 1 is 2\n",
      "The frequency of 2 is 2\n",
      "The frequency of 3 is 3\n",
      "The frequency of 7 is 2\n",
      "The frequency of 9 is 1\n"
     ]
    }
   ],
   "source": [
    "a = [1, 2, 3, 3, 1, 3, 7, 2, 7, 9]\n",
    "\n",
    "for i in range(len(a)):\n",
    "    if a[i] != -1:\n",
    "        freq = 1\n",
    "        for j in range(i + 1, len(a)):\n",
    "            if a[i] == a[j]:\n",
    "                freq += 1\n",
    "                a[j] = -1  # Mark the duplicate element to avoid recounting it\n",
    "        print(f\"The frequency of {a[i]} is {freq}\")\n"
   ]
  },
  {
   "cell_type": "markdown",
   "id": "c2a5aa6c",
   "metadata": {},
   "source": [
    "# Q.6 Write a Python program to check if a number is prime? "
   ]
  },
  {
   "cell_type": "code",
   "execution_count": 134,
   "id": "71d8214d",
   "metadata": {},
   "outputs": [],
   "source": [
    "def check_prime_number(num):\n",
    "    if num == 1:\n",
    "        return False\n",
    "    elif num > 2:\n",
    "        for i in range(2, num):\n",
    "            if(num % i == 0):\n",
    "                return False\n",
    "        return True\n",
    "    "
   ]
  },
  {
   "cell_type": "code",
   "execution_count": 136,
   "id": "a9b3200b",
   "metadata": {},
   "outputs": [
    {
     "name": "stdout",
     "output_type": "stream",
     "text": [
      "Enter a number: 29\n",
      "29 is a prime number\n"
     ]
    }
   ],
   "source": [
    "num = int(input(\"Enter a number: \"))\n",
    "if check_prime_number(num):\n",
    "    print(num, \"is a prime number\")\n",
    "else:\n",
    "    print(num, \"is a not prime number\")"
   ]
  },
  {
   "cell_type": "markdown",
   "id": "77210c55",
   "metadata": {},
   "source": [
    "# Q.7 Write a Python program to find the common elements between two lists?"
   ]
  },
  {
   "cell_type": "code",
   "execution_count": 162,
   "id": "9fbb110d",
   "metadata": {},
   "outputs": [
    {
     "name": "stdout",
     "output_type": "stream",
     "text": [
      "[2, 3, 6]\n"
     ]
    }
   ],
   "source": [
    "a = [1,2,3,6]\n",
    "b = [6,5,3,2,6]\n",
    "c = []\n",
    "for i in range(len(a)):\n",
    "    if a[i] in b:\n",
    "        c.append(a[i])\n",
    "print(c)\n",
    "\n",
    "    "
   ]
  },
  {
   "cell_type": "code",
   "execution_count": 168,
   "id": "33a2551a",
   "metadata": {},
   "outputs": [
    {
     "name": "stdout",
     "output_type": "stream",
     "text": [
      "[2, 3, 6]\n"
     ]
    }
   ],
   "source": [
    "# Using List Comprehension\n",
    "a = [1,2,3,6]\n",
    "b = [6,5,3,2,6]\n",
    "c = [x for x in a if x in b]\n",
    "print(c)"
   ]
  },
  {
   "cell_type": "markdown",
   "id": "71534692",
   "metadata": {},
   "source": [
    "# Q.8 Write a Python program to sort a list of elements using the bubble sort algorithm?"
   ]
  },
  {
   "cell_type": "code",
   "execution_count": 197,
   "id": "51b2249f",
   "metadata": {},
   "outputs": [
    {
     "name": "stdout",
     "output_type": "stream",
     "text": [
      "Sorted list: [2, 3, 4, 5, 8]\n"
     ]
    }
   ],
   "source": [
    "a = [5, 3, 8, 4, 2]\n",
    "n = len(a)\n",
    "\n",
    "for i in range(n-1):\n",
    "   \n",
    "    for j in range(0, n-1-i):\n",
    "        if a[j] > a[j + 1]:\n",
    "            a[j], a[j + 1] = a[j + 1], a[j]\n",
    "            \n",
    "print(\"Sorted list:\", a)  "
   ]
  },
  {
   "cell_type": "markdown",
   "id": "a8015c16",
   "metadata": {},
   "source": [
    "# Q.9 Write a Python program to find the second largest number in a list?"
   ]
  },
  {
   "cell_type": "code",
   "execution_count": 209,
   "id": "497915e5",
   "metadata": {},
   "outputs": [
    {
     "name": "stdout",
     "output_type": "stream",
     "text": [
      "Second Largest Number in a list is  5\n"
     ]
    }
   ],
   "source": [
    "a = [5, 3, 8, 4, 2]\n",
    "max_number = max(a)\n",
    "a.remove(max_number)\n",
    "second_largest = max(a)\n",
    "print(\"Second Largest Number in a list is \",second_largest)"
   ]
  },
  {
   "cell_type": "markdown",
   "id": "4e327e7e",
   "metadata": {},
   "source": [
    "# Q.10 Write a Python program to remove duplicates from a list?"
   ]
  },
  {
   "cell_type": "code",
   "execution_count": 226,
   "id": "8abba015",
   "metadata": {},
   "outputs": [
    {
     "name": "stdout",
     "output_type": "stream",
     "text": [
      "List after removing duplicates: [5, 3, 4, 8]\n"
     ]
    }
   ],
   "source": [
    "original_list = [5,3,5,4,8,4]\n",
    "unique_list = []\n",
    "for num in original_list:\n",
    "    if num not in unique_list:\n",
    "        unique_list.append(num)\n",
    "print(\"List after removing duplicates:\", unique_list)    \n",
    "       \n"
   ]
  },
  {
   "cell_type": "markdown",
   "id": "66234158",
   "metadata": {},
   "source": [
    "# Q.11 What is Python?How do you comment in Python?"
   ]
  },
  {
   "cell_type": "raw",
   "id": "c8c08192",
   "metadata": {},
   "source": [
    "Python is a general purpose,high level, interpreted programming language which is invented in 1991 by Guido van Rossoum.\n",
    "Comments in Python are created using the # symbol for single-line comments and triple quotes (''' or \"\"\") for multi-line comments."
   ]
  },
  {
   "cell_type": "markdown",
   "id": "dc270971",
   "metadata": {},
   "source": [
    "# Q.12 What are the key features of Python?"
   ]
  },
  {
   "cell_type": "raw",
   "id": "6ea80668",
   "metadata": {},
   "source": [
    "key features of Python are as follows:--\n",
    "1.Simplicity: Easy to learn and understand syntax.\n",
    "2.Readability: Clear and expressive code structure.\n",
    "3.Versatility: Supports multiple programming paradigms.\n",
    "4.Interpreted Language: No need for compilation; code executes line by line.\n",
    "5.Dynamic Typing: Variables don't require explicit declaration of data types.\n",
    "6.Rich Standard Library: Comprehensive set of modules and packages.\n",
    "7.High-level Language: Abstracts low-level details for easier programming.\n",
    "8.Platform Independence: Runs on various operating systems.\n",
    "9.Active Community: Vast support network and continuous development.\n",
    "10.Integration Capabilities: Seamless integration with other languages and platforms.\n",
    "11.Scalability: Suitable for projects of all sizes.\n",
    "12.Open Source: Freely available and customizable."
   ]
  },
  {
   "cell_type": "markdown",
   "id": "c1b802b7",
   "metadata": {},
   "source": [
    "# Q.13 Explain the difference between a list and a tuple?What is the purpose of the ‘self’ parameter in Python?"
   ]
  },
  {
   "cell_type": "raw",
   "id": "8929eaa5",
   "metadata": {},
   "source": [
    "List --> \n",
    "(1) Lists are mutable == > meaning we can modify their elements after creation.we can add, remove, or modify elements in a list.\n",
    "(2) syntax ==> List defined using square bracket [].\n",
    "(3) Performance ==> Lists are slightly slower compared to tuples due to their mutability.\n",
    "\n",
    "Tuple --> \n",
    "(1)Tuples are immutable ==> meaning once created, their elements cannot be changed or modified.\n",
    "(2)Syntax ==> Tuples are defined using parentheses (). \n",
    "(3)Performance ==> Tuples are generally faster and more memory-efficient than lists, especially for read-only operations.\n",
    "\n",
    "#The self parameter in Python serves the purpose of referring to the current instance of a class within its methods. \n",
    "\n",
    "1.Instance-specific Access: It allows access to instance variables and methods within a class. Without self, methods wouldn't know which instance's variables to operate on.\n",
    "\n",
    "2.Differentiation: It helps differentiate between instance variables (attributes) and local variables within a class method. When you refer to self.variable, you're referring to the instance variable, not a local variable of the method.\n",
    "\n",
    "3.Method Invocation: When calling methods of an object, Python automatically passes the object itself as the first argument to the method. This allows methods to work with the data specific to that object.\n",
    "\n",
    "4.Instance Identity: It helps maintain the identity of the current instance. Each instance of a class has its own self, which allows for separate data storage and manipulation for each instance.\n",
    "\n",
    "In essence, self facilitates object-oriented programming by providing a way to access and manipulate instance-specific data within class methods. "
   ]
  },
  {
   "cell_type": "markdown",
   "id": "634c6019",
   "metadata": {},
   "source": [
    "# Q.14 What is a module in Python?"
   ]
  },
  {
   "cell_type": "raw",
   "id": "74506f33",
   "metadata": {},
   "source": [
    "A module in Python is a file containing statements and definitions. \n",
    "It can define functions, classes, and variables, and can also include runnable code. \n",
    "Modules are used to organize code into logical units, to reduce complexity and increase reusability.\n",
    "We can import modules into your program using the import statement."
   ]
  },
  {
   "cell_type": "markdown",
   "id": "c7ec2816",
   "metadata": {},
   "source": [
    "# Q.15 How do you handle exceptions in Python?"
   ]
  },
  {
   "cell_type": "raw",
   "id": "95ae6ede",
   "metadata": {},
   "source": [
    "in Python, you use a combination of try, except, finally, and optionally else blocks.\n",
    "\n",
    "1)try block: This block encloses the code that may raise an exception. Python attempts to execute this code, and if an exception occurs, it looks for a matching except block to handle it.\n",
    "\n",
    "2)except block: If an exception occurs within the try block, Python looks for an appropriate except block to handle it. You can have multiple except blocks to handle different types of exceptions.\n",
    "\n",
    "3)else block (optional): The else block is executed if no exceptions occur in the try block. It allows you to specify code that should only run when no exceptions are raised.\n",
    "\n",
    "4)finally block (optional): The finally block is executed regardless of whether an exception occurs or not. It's commonly used for cleanup actions, such as closing files or releasing resources.\n",
    "\n",
    "By using these blocks, you can gracefully handle exceptions, prevent program crashes, and perform necessary cleanup actions in Python programs."
   ]
  },
  {
   "cell_type": "markdown",
   "id": "f28c46fb",
   "metadata": {},
   "source": [
    "# Q16 What is the purpose of the ‘if name == “main”’ statement?"
   ]
  },
  {
   "cell_type": "raw",
   "id": "cc3eab7c",
   "metadata": {},
   "source": [
    "The condition if __name__ == ‘__main__’ is used in a Python program to execute the code inside the if statement only when the program is executed directly by the Python interpreter. When the code in the file is imported as a module the code inside the if statement is not executed."
   ]
  },
  {
   "cell_type": "raw",
   "id": "6a3041e8",
   "metadata": {},
   "source": [
    "1)Execution Control:Allows specific code to run only when the script is executed directly, not when imported as a module.\n",
    "2)Prevents Unintended Execution:Prevents certain parts of the script from running unintentionally when imported elsewhere.\n",
    "3)Testing and Debugging:Enables inclusion of test code or debugging statements that should only run during direct execution.\n",
    "4)Script Initialization:Facilitates initialization tasks specific to script execution, like variable setup or configuration.\n",
    "5)Modular Design:Encourages modular design by separating main program logic from auxiliary code or utility functions."
   ]
  },
  {
   "cell_type": "markdown",
   "id": "f00cc6b4",
   "metadata": {},
   "source": [
    "# Q.17 Explain the difference between ‘append()’ and ‘extend()’ methods for lists?"
   ]
  },
  {
   "cell_type": "raw",
   "id": "4158b4a9",
   "metadata": {},
   "source": [
    "1)Append:\n",
    "append() is used to add a single element to the end of a list.\n",
    "When you use append(), the argument passed is added to the list as a single element, regardless of its type.\n",
    "\n",
    "Syntax:\n",
    "\n",
    "list_name.append(element)\n",
    "\n",
    "2)Extend\n",
    "extend() is used to add multiple elements to the end of a list by appending all elements from an iterable (such as another list).\n",
    "When you use extend(), the elements of the iterable are added individually to the list.\n",
    "\n",
    "Syntax:\n",
    "\n",
    "list_name.extend(iterable)\n",
    "\n"
   ]
  },
  {
   "cell_type": "markdown",
   "id": "72d307f0",
   "metadata": {},
   "source": [
    "# Q.18 What is the ‘str’ function used for in Python?"
   ]
  },
  {
   "cell_type": "raw",
   "id": "5c911233",
   "metadata": {},
   "source": [
    "The str() function in Python is used to convert an object into its string representation.\n",
    "It accepts various data types, such as integers, floats, lists, dictionaries, etc., and returns their string equivalents.\n",
    "\n",
    "Python str() Function Syntax\n",
    "Syntax: str(object, encoding=’utf-8?, errors=’strict’)\n",
    "\n",
    "object: The object to be converted into a string representation.\n",
    "encoding (optional): Specifies the encoding of the string. The default is 'utf-8'.\n",
    "errors (optional): Specifies the response when decoding fails. The default is 'strict'.\n",
    "\n",
    "Parameters:\n",
    "\n",
    "object: The object whose string representation is to be returned. \n",
    "This can be any Python object, including integers, floats, lists, dictionaries, etc.\n",
    "encoding: Specifies the encoding of the string, which is important when dealing with non-ASCII characters.\n",
    "errors: Defines the response when decoding fails due to encoding issues. Options include 'strict', 'ignore', 'replace', etc."
   ]
  },
  {
   "cell_type": "markdown",
   "id": "dd3a6213",
   "metadata": {},
   "source": [
    "# Q.19 Explain the difference between mutable and immutable data types in Python?"
   ]
  },
  {
   "cell_type": "raw",
   "id": "96af515a",
   "metadata": {},
   "source": [
    "Mutable Data Types:\n",
    "\n",
    "Allow modifications after creation.\n",
    "Changes modify the object directly.\n",
    "Examples include lists, dictionaries, and sets.\n",
    "Example: my_list[0] = 10 modifies the list in-place.\n",
    "\n",
    "Immutable Data Types:\n",
    "\n",
    "Cannot be modified after creation.\n",
    "Modifying attempts create new objects.\n",
    "Examples include integers, floats, strings, tuples, and frozensets.\n",
    "Example: Modifying a tuple would raise a TypeError."
   ]
  },
  {
   "cell_type": "markdown",
   "id": "90228fa5",
   "metadata": {},
   "source": [
    "# Q.20 How do you perform a shallow copy and a deep copy of a list in Python?"
   ]
  },
  {
   "cell_type": "raw",
   "id": "03e2270a",
   "metadata": {},
   "source": [
    "Shallow Copy:\n",
    "\n",
    "A shallow copy creates a new object but does not create copies of nested objects. Instead, it copies references to the nested objects. Therefore, changes made to nested objects in the copied list will affect the original list and vice versa.\n",
    "\n",
    "You can perform a shallow copy using the slicing syntax [:] or the copy() method of the list object.\n",
    "\n",
    "Deep Copy:\n",
    "\n",
    "A deep copy creates a new object and recursively copies all objects found in the original, creating distinct copies of nested objects. Therefore, changes made to nested objects in the copied list do not affect the original list and vice versa.\n",
    "\n",
    "You can perform a deep copy using the deepcopy() function from the copy module."
   ]
  },
  {
   "cell_type": "markdown",
   "id": "5db3d691",
   "metadata": {},
   "source": [
    "Shallow copy creates a new object but does not create copies of nested objects.\n",
    "Deep copy creates a new object and recursively copies all nested objects, creating distinct copies.\n",
    "Shallow copy can be done using slicing or the copy() method.\n",
    "Deep copy is done using the deepcopy() function from the copy module."
   ]
  },
  {
   "cell_type": "code",
   "execution_count": 2,
   "id": "5a26d4ae",
   "metadata": {},
   "outputs": [
    {
     "data": {
      "text/plain": [
       "[1, 2, [3, 4]]"
      ]
     },
     "execution_count": 2,
     "metadata": {},
     "output_type": "execute_result"
    }
   ],
   "source": [
    "original_list = [1, 2, [3, 4]]\n",
    "\n",
    "shallow_copy = original_list[:]\n",
    "shallow_copy "
   ]
  },
  {
   "cell_type": "code",
   "execution_count": 3,
   "id": "c2a84612",
   "metadata": {},
   "outputs": [
    {
     "data": {
      "text/plain": [
       "[1, 2, [3, 4]]"
      ]
     },
     "execution_count": 3,
     "metadata": {},
     "output_type": "execute_result"
    }
   ],
   "source": [
    "import copy\n",
    "shallow_copy1 = copy.copy(original_list)\n",
    "shallow_copy1"
   ]
  },
  {
   "cell_type": "code",
   "execution_count": 5,
   "id": "43698d27",
   "metadata": {},
   "outputs": [
    {
     "data": {
      "text/plain": [
       "[1, 2, [3, 4]]"
      ]
     },
     "execution_count": 5,
     "metadata": {},
     "output_type": "execute_result"
    }
   ],
   "source": [
    "import copy\n",
    "\n",
    "original_list = [1, 2, [3, 4]]\n",
    "deep_copy = copy.deepcopy(original_list)\n",
    "deep_copy "
   ]
  },
  {
   "cell_type": "markdown",
   "id": "fecf5092",
   "metadata": {},
   "source": [
    "# Q.21 What is a decorator in Python?Explain the difference between ‘==’, ‘is’, and ‘in’ operators."
   ]
  },
  {
   "cell_type": "raw",
   "id": "d89dda51",
   "metadata": {},
   "source": [
    "Decorators :\n",
    "1) Decorators are used to modify or extend the behaviour of functions or\n",
    "method without changing their actual code.\n",
    "2) Decorators defined using the '@decorator_name' syntax above the function to\n",
    "be decorated.\n",
    "3) The Functionality of decorators are wrap a function , modify its behaviour, or\n",
    "add functionality before or after the original functional call.\n",
    "4) Decorators often used for tasks such as looging, autyhentication,\n",
    "memoization etc.., where additional functionalty need to be applied for multiple\n",
    "functions.\n",
    "5) A decorator is a function that accepts a function as a parameter and returns a\n",
    "function.\n",
    "6) It Executes when the decorated function is called.\n",
    "7) Typically do not have a significant impact on memory usage unless the\n",
    "decorated functions themselves consume a large amount of memory.\n",
    "8) Decorators: @staticmethod, @classmethod, @property, @lru_cache, etc.\n",
    "9) Decorators Can be used with functions and methods"
   ]
  },
  {
   "cell_type": "raw",
   "id": "1a99d255",
   "metadata": {},
   "source": [
    "Difference between ‘==’, ‘is’, and ‘in’ operators:\n",
    "\n",
    "'==' Operator:\n",
    "\n",
    "The == operator is used for value equality comparison.\n",
    "It checks if the values of two objects are equal.\n",
    "Example: a == b returns True if a and b have the same value.\n",
    "'is' Operator:\n",
    "\n",
    "The is operator is used for identity comparison.\n",
    "It checks if two objects refer to the same memory location.\n",
    "Example: a is b returns True if a and b refer to the same object.\n",
    "'in' Operator:\n",
    "\n",
    "The in operator is used to check if a value exists in a sequence (such as a list, tuple, or string).\n",
    "It returns True if the value is present in the sequence, False otherwise.\n",
    "Example: x in sequence returns True if x is present in the sequence."
   ]
  },
  {
   "cell_type": "markdown",
   "id": "cf5a434f",
   "metadata": {},
   "source": [
    "# Q.22 How can you convert a string to an integer in Python?"
   ]
  },
  {
   "cell_type": "raw",
   "id": "7ba3069f",
   "metadata": {},
   "source": [
    "In Python, you can convert a string to an integer using the int() function."
   ]
  },
  {
   "cell_type": "code",
   "execution_count": 1,
   "id": "2c44b0a1",
   "metadata": {},
   "outputs": [
    {
     "name": "stdout",
     "output_type": "stream",
     "text": [
      "Converted integer: 123\n"
     ]
    }
   ],
   "source": [
    "string_num = \"123\"\n",
    "integer_num = int(string_num)\n",
    "\n",
    "print(\"Converted integer:\", integer_num)"
   ]
  },
  {
   "cell_type": "raw",
   "id": "b4dbe75f",
   "metadata": {},
   "source": [
    " the string contains characters that are not numeric, attempting to convert it to an integer will raise a ValueError. "
   ]
  },
  {
   "cell_type": "code",
   "execution_count": 2,
   "id": "3e21abbc",
   "metadata": {},
   "outputs": [
    {
     "name": "stdout",
     "output_type": "stream",
     "text": [
      "Could not convert the string to an integer.\n"
     ]
    }
   ],
   "source": [
    "string_num = \"abc\"\n",
    "try:\n",
    "    integer_num = int(string_num)\n",
    "    print(\"Converted integer:\", integer_num)\n",
    "except ValueError:\n",
    "    print(\"Could not convert the string to an integer.\")"
   ]
  },
  {
   "cell_type": "markdown",
   "id": "62772344",
   "metadata": {},
   "source": [
    "# Q.23 What is the purpose of the ‘pass’ statement in Python?"
   ]
  },
  {
   "cell_type": "raw",
   "id": "a99a2292",
   "metadata": {},
   "source": [
    "**The primary purpose of the pass statement in Python is to act as a placeholder for code that needs to be syntactically valid but doesn't require any action to be taken. Here are some key purposes:\n",
    "\n",
    "1)Syntax Placeholder: Python syntax requires certain constructs such as loops, functions, or classes to have a body. pass allows you to create these constructs without implementing their functionality immediately.\n",
    "\n",
    "2)Future Development: It's often used when writing stubs for functions or classes that will be implemented at a later time. This allows you to define the structure of your code without implementing the details right away.\n",
    "\n",
    "3)Code Blocks: In situations where an empty code block is necessary syntactically (such as in an if statement where no action is needed for a certain condition), pass serves to fulfill that requirement.\n",
    "\n",
    "4)Maintaining Code Structure: It helps in maintaining the structure and readability of code. It makes it clear that the absence of code inside a block is intentional, rather than an oversight or mistake."
   ]
  },
  {
   "cell_type": "markdown",
   "id": "cef891c2",
   "metadata": {},
   "source": [
    "# Q.24 What is the purpose of the ‘range()’ function?"
   ]
  },
  {
   "cell_type": "raw",
   "id": "21417df5",
   "metadata": {},
   "source": [
    "The Python range() function returns a sequence of numbers, in a given range. The most common use of it is to iterate sequences on a sequence of numbers using Python loops.\n",
    "\n",
    "Syntax: range(start, stop, step)\n",
    "\n",
    "Parameter :\n",
    "\n",
    "start: [ optional ] start value of the sequence\n",
    "stop: next value after the end value of the sequence\n",
    "step: [ optional ] integer value, denoting the difference between any two numbers in the sequence\n",
    "Return : Returns an object that represents a sequence of numbers\n",
    "\n",
    "What is the use of the range function in Python\n",
    "In simple terms, range() allows the user to generate a series of numbers within a given range. Depending on how many arguments the user is passing to the function, the user can decide where that series of numbers will begin and end, as well as how big the difference will be between one number and the next. Python range() function takes can be initialized in 3 ways.\n",
    "\n",
    "range (stop) takes one argument.\n",
    "range (start, stop) takes two arguments.\n",
    "range (start, stop, step) takes three arguments."
   ]
  },
  {
   "cell_type": "markdown",
   "id": "aa4de3db",
   "metadata": {},
   "source": [
    "# Q.24 What is a lambda function?"
   ]
  },
  {
   "cell_type": "raw",
   "id": "60ebcd62",
   "metadata": {},
   "source": [
    "(1).Lambda Function ==> A lambda function can take any number of arguments but can only have a single expression.\n",
    " syntax : lambda arguments : expression \n",
    " memory and timing consuming advantage \n",
    "\n",
    "A lambda function in Python is a small anonymous function defined using the lambda keyword. It allows you to create a function without a proper function definition using the def keyword.\n",
    "\n",
    "Lambda functions are often used when you need a simple function for a short period of time. \n",
    "They are commonly used with higher-order functions like map(), filter(), and reduce(), where you need to pass a function as an argument."
   ]
  },
  {
   "cell_type": "markdown",
   "id": "fd17b0af",
   "metadata": {},
   "source": [
    "# Q.25 Explain indexing and slicing in Python?"
   ]
  },
  {
   "cell_type": "raw",
   "id": "2f1538ca",
   "metadata": {},
   "source": [
    "Indexing and slicing are fundamental concepts in Python used to access and manipulate elements within sequences like lists, strings, tuples, and other iterable data structures. \n",
    "\n",
    "Indexing:\n",
    "Indexing refers to accessing individual elements within a sequence using their position or index.\n",
    "he syntax for indexing is sequence[index], where sequence is the iterable object (e.g., list, string) and index is the position of the element you want to access.\n",
    "Indexing starts from 0 for the first element and continues sequentially.\n",
    "Negative indices can be used to access elements from the end of the sequence, with -1 representing the last element.\n",
    "If the index is out of bounds (i.e., greater than or equal to the length of the sequence), it results in an IndexError.\n",
    "\n",
    "\n",
    "Slicing:\n",
    "\n",
    "Slicing involves extracting a portion of a sequence, creating a new sequence containing the extracted elements.\n",
    "The syntax for slicing is sequence[start:stop:step], where:\n",
    "start is the index where the slice begins (inclusive).\n",
    "stop is the index where the slice ends (exclusive).\n",
    "step is the increment between elements (optional; default is 1).\n",
    "Slicing Rules:\n",
    "If start is omitted, it defaults to 0, indicating the beginning of the sequence.\n",
    "If stop is omitted, it defaults to the end of the sequence.\n",
    "Slicing always returns a new sequence containing elements from the original sequence based on the specified range.\n",
    "The step parameter determines how many elements to skip between each extracted element. A negative step value can be used to reverse the sequence.\n",
    "Slicing can be applied to strings, lists, tuples, and other iterable objects."
   ]
  },
  {
   "cell_type": "markdown",
   "id": "b37e3ea9",
   "metadata": {},
   "source": [
    "# Q.26 How can you reverse a list in Python?"
   ]
  },
  {
   "cell_type": "raw",
   "id": "c527b492",
   "metadata": {},
   "source": [
    "Using the reverse() method:\n",
    "The reverse() method reverses the elements of the list in place, meaning it modifies the original list.\n",
    "After calling reverse(), the original list will be reversed."
   ]
  },
  {
   "cell_type": "raw",
   "id": "7e0b0730",
   "metadata": {},
   "source": [
    "Using the slicing technique:\n",
    "Slicing with a step size of -1 effectively reverses the list.\n",
    "This approach doesn't modify the original list and returns a new reversed list."
   ]
  },
  {
   "cell_type": "code",
   "execution_count": 4,
   "id": "14a33bce",
   "metadata": {},
   "outputs": [
    {
     "name": "stdout",
     "output_type": "stream",
     "text": [
      "[5, 4, 3, 2, 1]\n"
     ]
    }
   ],
   "source": [
    "my_list = [1, 2, 3, 4, 5]\n",
    "reversed_list = my_list[::-1]\n",
    "print(reversed_list) \n"
   ]
  },
  {
   "cell_type": "raw",
   "id": "ba3f6c05",
   "metadata": {},
   "source": [
    "Using the reversed() function:\n",
    "The reversed() function returns an iterator that yields the elements of the list in reverse order.\n",
    "You can convert the iterator to a list using the list() constructor to get a reversed list."
   ]
  },
  {
   "cell_type": "code",
   "execution_count": 7,
   "id": "0a9a2f26",
   "metadata": {},
   "outputs": [
    {
     "name": "stdout",
     "output_type": "stream",
     "text": [
      "[5, 4, 3, 2, 1]\n"
     ]
    }
   ],
   "source": [
    "my_list = [1, 2, 3, 4, 5]\n",
    "reversed_list = list(reversed(my_list))\n",
    "print(reversed_list)  "
   ]
  },
  {
   "cell_type": "markdown",
   "id": "d3071c65",
   "metadata": {},
   "source": [
    "# Q.27 What is the difference between ‘pop()’ and ‘remove()’ methods for lists?"
   ]
  },
  {
   "cell_type": "raw",
   "id": "e42689aa",
   "metadata": {},
   "source": [
    "# The pop() and remove() methods in Python are both used to remove elements from lists, but they differ in functionality:\n",
    "\n",
    "pop():\n",
    "\n",
    "Syntax: list.pop([index])\n",
    "pop() removes and returns the last element from the list by default, or the element at the specified index if provided.\n",
    "It modifies the original list and returns the removed element.\n",
    "If no index is specified, pop() removes and returns the last element of the list.\n",
    "If the index is out of range, pop() raises an IndexError.\n",
    "\n",
    "remove():\n",
    "\n",
    "Syntax: list.remove(value)\n",
    "remove() removes the first occurrence of the specified value from the list.\n",
    "It modifies the original list but does not return any value.\n",
    "If the specified value is not found in the list, remove() raises a ValueError.\n",
    "\n",
    "Use pop() when you need to remove and retrieve an element from a specific index in the list.\n",
    "Use remove() when you want to remove the first occurrence of a specific value from the list without needing its index."
   ]
  },
  {
   "cell_type": "markdown",
   "id": "691bac00",
   "metadata": {},
   "source": [
    "# Q.28 What is a set in Python? Difference between frozenset or NormalSet?"
   ]
  },
  {
   "cell_type": "raw",
   "id": "b44cceea",
   "metadata": {},
   "source": [
    "In Python, a set is an unordered collection of unique elements. It is defined using curly braces {} with comma-separated values. Sets are mutable, meaning you can add or remove elements after creating them. However, the elements themselves must be immutable, such as numbers, strings, or tuples.\n",
    "\n",
    "A frozenset, on the other hand, is an immutable version of a set. Once created, its elements cannot be changed or modified. It behaves like a set but is hashable and can, therefore, be used as a key in a dictionary or as an element in another set.\n",
    "\n",
    "Sets are mutable collections of unique elements.\n",
    "Frozensets are immutable versions of sets and can be used as keys in dictionaries or elements in other sets."
   ]
  },
  {
   "cell_type": "markdown",
   "id": "ebcda424",
   "metadata": {},
   "source": [
    "# Q.29 What is a dictionary comprehension in Python?"
   ]
  },
  {
   "cell_type": "raw",
   "id": "69666ebd",
   "metadata": {},
   "source": [
    "A dictionary comprehension in Python is a concise and expressive way to create dictionaries using a single line of code. It is similar to list comprehensions but produces dictionaries instead of lists. The basic syntax of a dictionary comprehension is:"
   ]
  },
  {
   "cell_type": "raw",
   "id": "5e21073b",
   "metadata": {},
   "source": [
    "{key_expression: value_expression for item in iterable}"
   ]
  },
  {
   "cell_type": "raw",
   "id": "9a3490fb",
   "metadata": {},
   "source": [
    "Where:\n",
    "\n",
    "key_expression and value_expression are expressions that define the key-value pairs of the dictionary.\n",
    "item is a variable that represents each element in the iterable (such as a list, tuple, or range) used to generate the dictionary.\n",
    "The comprehension iterates over the iterable and creates key-value pairs according to the specified expressions."
   ]
  },
  {
   "cell_type": "code",
   "execution_count": 9,
   "id": "e27a0536",
   "metadata": {},
   "outputs": [
    {
     "name": "stdout",
     "output_type": "stream",
     "text": [
      "{1: 1, 2: 4, 3: 9, 4: 16, 5: 25}\n"
     ]
    }
   ],
   "source": [
    "squares = {x: x*x for x in range(1, 6)}\n",
    "print(squares)  \n"
   ]
  },
  {
   "cell_type": "raw",
   "id": "f4b672f0",
   "metadata": {},
   "source": [
    "Dictionary comprehensions are concise and efficient, making them a powerful tool for creating dictionaries from iterable data or transforming existing dictionaries."
   ]
  },
  {
   "cell_type": "markdown",
   "id": "f2d063fc",
   "metadata": {},
   "source": [
    "# Q.30 How can you convert a list of strings to a single string in Python?"
   ]
  },
  {
   "cell_type": "raw",
   "id": "4037c666",
   "metadata": {},
   "source": [
    "You can convert a list of strings to a single string in Python by using the join() method. The join() method concatenates each element of the list into a single string, with an optional separator between each element."
   ]
  },
  {
   "cell_type": "code",
   "execution_count": 10,
   "id": "17e2bc6b",
   "metadata": {},
   "outputs": [
    {
     "name": "stdout",
     "output_type": "stream",
     "text": [
      "Hello World !\n"
     ]
    }
   ],
   "source": [
    "list_of_strings = [\"Hello\", \"World\", \"!\"]\n",
    "\n",
    "single_string = \" \".join(list_of_strings)\n",
    "print(single_string)  \n"
   ]
  },
  {
   "cell_type": "markdown",
   "id": "a3f9c12a",
   "metadata": {},
   "source": [
    "# Q.31 How can you find the length of a string in Python?"
   ]
  },
  {
   "cell_type": "raw",
   "id": "e6722440",
   "metadata": {},
   "source": [
    "In Python, you can find the length of a string using the built-in len() function. The len() function returns the number of characters in the string, including spaces and special characters. "
   ]
  },
  {
   "cell_type": "code",
   "execution_count": 11,
   "id": "fe06d65d",
   "metadata": {},
   "outputs": [
    {
     "name": "stdout",
     "output_type": "stream",
     "text": [
      "13\n"
     ]
    }
   ],
   "source": [
    "my_string = \"Hello, World!\"\n",
    "\n",
    "length = len(my_string)\n",
    "print(length)  \n"
   ]
  },
  {
   "cell_type": "markdown",
   "id": "8c36dfdb",
   "metadata": {},
   "source": [
    "# Q.32 How can you convert a string to uppercase and lowercase in Python?"
   ]
  },
  {
   "cell_type": "raw",
   "id": "b54891c8",
   "metadata": {},
   "source": [
    "# You can convert a string to uppercase or lowercase in Python using the upper() and lower() string methods, respectively.\n"
   ]
  },
  {
   "cell_type": "code",
   "execution_count": 12,
   "id": "b81fe807",
   "metadata": {},
   "outputs": [
    {
     "name": "stdout",
     "output_type": "stream",
     "text": [
      "HELLO, WORLD!\n",
      "hello, world!\n"
     ]
    }
   ],
   "source": [
    "my_string = \"Hello, World!\"\n",
    "\n",
    "uppercase_string = my_string.upper()\n",
    "print(uppercase_string)  \n",
    "\n",
    "\n",
    "lowercase_string = my_string.lower()\n",
    "print(lowercase_string)  \n"
   ]
  },
  {
   "cell_type": "markdown",
   "id": "786c6588",
   "metadata": {},
   "source": [
    "# Q.33 How can you remove duplicates from a list in Python?"
   ]
  },
  {
   "cell_type": "raw",
   "id": "c46a0232",
   "metadata": {},
   "source": [
    "You can remove duplicates from a list in Python using several approaches. One common approach is to convert the list to a set, as sets only contain unique elements, and then convert it back to a list."
   ]
  },
  {
   "cell_type": "code",
   "execution_count": 13,
   "id": "2934eba6",
   "metadata": {},
   "outputs": [
    {
     "name": "stdout",
     "output_type": "stream",
     "text": [
      "[1, 2, 3, 4, 5]\n"
     ]
    }
   ],
   "source": [
    "my_list = [1, 2, 2, 3, 4, 4, 5]\n",
    "unique_list = list(set(my_list))\n",
    "print(unique_list)  "
   ]
  },
  {
   "cell_type": "markdown",
   "id": "81f5442a",
   "metadata": {},
   "source": [
    "# Q.34 Explain the purpose of the ‘random’ module in Python?"
   ]
  },
  {
   "cell_type": "raw",
   "id": "5b8403d4",
   "metadata": {},
   "source": [
    "The random module in Python provides functions for generating random numbers. It is commonly used in applications involving randomness, simulations, games, cryptography, and statistical sampling. Some of the key functions provided by the random module include:\n",
    "\n",
    "Generating random integers (random.randint(), random.randrange()).\n",
    "Generating random floating-point numbers (random.random()).\n",
    "Choosing random elements from a sequence (random.choice(), random.sample()).\n",
    "Shuffling a sequence randomly (random.shuffle()).\n",
    "Generating cryptographically secure random numbers (random.SystemRandom()).\n",
    "The random module is versatile and can be used in various scenarios where randomness is required. However, it's important to note that the pseudo-random numbers generated by random are not truly random but are deterministic based on a seed value. For cryptographic purposes, the secrets module should be used instead, as it provides more secure random number generation."
   ]
  }
 ],
 "metadata": {
  "kernelspec": {
   "display_name": "Python 3 (ipykernel)",
   "language": "python",
   "name": "python3"
  },
  "language_info": {
   "codemirror_mode": {
    "name": "ipython",
    "version": 3
   },
   "file_extension": ".py",
   "mimetype": "text/x-python",
   "name": "python",
   "nbconvert_exporter": "python",
   "pygments_lexer": "ipython3",
   "version": "3.11.5"
  }
 },
 "nbformat": 4,
 "nbformat_minor": 5
}
