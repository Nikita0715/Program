{
 "cells": [
  {
   "cell_type": "markdown",
   "id": "534d502e",
   "metadata": {},
   "source": [
    "# Q.1  Converting an Integer into Decimals ?"
   ]
  },
  {
   "cell_type": "code",
   "execution_count": 9,
   "id": "2cab4a93",
   "metadata": {},
   "outputs": [
    {
     "name": "stdout",
     "output_type": "stream",
     "text": [
      "Enter any value1234\n",
      "123.4\n"
     ]
    }
   ],
   "source": [
    "integer_val = int(input(\"Enter any value\"))\n",
    "decimal_val = integer_val /10\n",
    "print(decimal_val)"
   ]
  },
  {
   "cell_type": "code",
   "execution_count": 11,
   "id": "654eb94f",
   "metadata": {},
   "outputs": [
    {
     "name": "stdout",
     "output_type": "stream",
     "text": [
      "Enter any value: 123\n",
      "12.3\n"
     ]
    }
   ],
   "source": [
    "def integer_to_decimal(integer):\n",
    "    result = integer / (10)\n",
    "    return result\n",
    "integer_val = int(input(\"Enter any value: \"))\n",
    "decimal_result = integer_to_decimal(integer_val)\n",
    "print(decimal_result)"
   ]
  },
  {
   "cell_type": "markdown",
   "id": "579429a9",
   "metadata": {},
   "source": [
    "# Q.2  Converting an String of Integers into Decimals ?"
   ]
  },
  {
   "cell_type": "code",
   "execution_count": 16,
   "id": "172bcc8d",
   "metadata": {},
   "outputs": [
    {
     "name": "stdout",
     "output_type": "stream",
     "text": [
      "Enter the String of integers: 456\n",
      "456.0\n"
     ]
    }
   ],
   "source": [
    "string_of_integers = input(\"Enter the String of integers: \")\n",
    "string_of_int_to_decimal = float(string_of_integers)\n",
    "print(string_of_int_to_decimal)"
   ]
  },
  {
   "cell_type": "markdown",
   "id": "3bfc506f",
   "metadata": {},
   "source": [
    "# Q.3  Reversing a string using an Extended Slicing Technique ? "
   ]
  },
  {
   "cell_type": "code",
   "execution_count": 19,
   "id": "0e190278",
   "metadata": {},
   "outputs": [
    {
     "name": "stdout",
     "output_type": "stream",
     "text": [
      "Enter any string :TM\n",
      "MT\n"
     ]
    }
   ],
   "source": [
    "string = input(\"Enter any string :\")\n",
    "reverse_string =string[::-1]\n",
    "print(reverse_string)"
   ]
  },
  {
   "cell_type": "markdown",
   "id": "2d6584c9",
   "metadata": {},
   "source": [
    "# Q.4  Counting the number of occurances of a character in a string ?"
   ]
  },
  {
   "cell_type": "code",
   "execution_count": 27,
   "id": "d934505e",
   "metadata": {},
   "outputs": [
    {
     "name": "stdout",
     "output_type": "stream",
     "text": [
      "Enter a string: Nikita\n",
      "Enter a character to count: i\n",
      "Number of occurrences of i in the string: 2\n"
     ]
    }
   ],
   "source": [
    "input_string = input(\"Enter a string: \")\n",
    "char= input(\"Enter a character to count: \")\n",
    "occurrences = input_string.count(char)\n",
    "print(\"Number of occurrences of\", char, \"in the string:\", occurrences)\n"
   ]
  },
  {
   "cell_type": "code",
   "execution_count": 31,
   "id": "7640622a",
   "metadata": {},
   "outputs": [],
   "source": [
    "def count_char_occurrences(string , char):\n",
    "    count = 0\n",
    "    for c in string:\n",
    "        if c == char:\n",
    "            count+=1\n",
    "    return count"
   ]
  },
  {
   "cell_type": "code",
   "execution_count": 32,
   "id": "d6e947e7",
   "metadata": {},
   "outputs": [
    {
     "name": "stdout",
     "output_type": "stream",
     "text": [
      "Enter a string: hello\n",
      "Enter a character to count: l\n",
      "Number of occurrences of l in the string: 2\n"
     ]
    }
   ],
   "source": [
    "input_string = input(\"Enter a string: \")\n",
    "char= input(\"Enter a character to count: \")\n",
    "occurrences = count_char_occurrences(input_string , char)\n",
    "print(\"Number of occurrences of\", char, \"in the string:\", occurrences)"
   ]
  },
  {
   "cell_type": "markdown",
   "id": "d835c64b",
   "metadata": {},
   "source": [
    "# Q.5  Find the maximum and minimum number in a list ?"
   ]
  },
  {
   "cell_type": "code",
   "execution_count": 39,
   "id": "85288a02",
   "metadata": {},
   "outputs": [
    {
     "name": "stdout",
     "output_type": "stream",
     "text": [
      "Enter the size of the list:6\n",
      "Enter the value44\n",
      "Enter the value55\n",
      "Enter the value78\n",
      "Enter the value98\n",
      "Enter the value56\n",
      "Enter the value25\n",
      "List: [44, 55, 78, 98, 56, 25]\n",
      "Maximum number in the list: 98\n",
      "Minimum number in the list: 25\n"
     ]
    }
   ],
   "source": [
    "num_list =[]\n",
    "list_range = int(input(\"Enter the size of the list:\"))\n",
    "\n",
    "for i in range(list_range):\n",
    "    a = int(input(\"Enter the value\"))\n",
    "    num_list.append(a)\n",
    "\n",
    "print(\"List:\", num_list)\n",
    "max_number = max(num_list)\n",
    "min_number = min(num_list)\n",
    "\n",
    "print(\"Maximum number in the list:\", max_number)\n",
    "print(\"Minimum number in the list:\", min_number)"
   ]
  },
  {
   "cell_type": "markdown",
   "id": "93820236",
   "metadata": {},
   "source": [
    "# Q.6  Find the middle element in a list ? "
   ]
  },
  {
   "cell_type": "code",
   "execution_count": 59,
   "id": "de5bd921",
   "metadata": {},
   "outputs": [],
   "source": [
    "def find_middle_element(input_list):\n",
    "    mid_index = len(input_list) // 2\n",
    "    if len(input_list) % 2 != 0:\n",
    "        mid_element = input_list[mid_index]\n",
    "        return middle_element\n",
    "    else:\n",
    "        mid_element1 = input_list[mid_index - 1]\n",
    "        mid_element2 = input_list[mid_index]\n",
    "        return mid_element1, mid_element2\n"
   ]
  },
  {
   "cell_type": "code",
   "execution_count": 63,
   "id": "8248a925",
   "metadata": {},
   "outputs": [
    {
     "name": "stdout",
     "output_type": "stream",
     "text": [
      "Middle elements: 4 and 5\n"
     ]
    }
   ],
   "source": [
    "my_list = [1, 2, 3, 4, 5,6,7,8]\n",
    "middle = find_middle_element(my_list)\n",
    "print(\"Middle elements:\", middle[0], \"and\", middle[1])"
   ]
  },
  {
   "cell_type": "markdown",
   "id": "f3e446a9",
   "metadata": {},
   "source": [
    "# Q.7  Converting a list into a string ?"
   ]
  },
  {
   "cell_type": "code",
   "execution_count": 67,
   "id": "81f2e7d9",
   "metadata": {},
   "outputs": [
    {
     "name": "stdout",
     "output_type": "stream",
     "text": [
      "Hello World\n"
     ]
    }
   ],
   "source": [
    "a = ['Hello','World']\n",
    "b = ' '.join(a)\n",
    "print(b)"
   ]
  },
  {
   "cell_type": "markdown",
   "id": "1501b3a9",
   "metadata": {},
   "source": [
    "# Q.8  Adding two list elements together ?"
   ]
  },
  {
   "cell_type": "code",
   "execution_count": 68,
   "id": "f436b318",
   "metadata": {},
   "outputs": [
    {
     "name": "stdout",
     "output_type": "stream",
     "text": [
      "['a', 'b', 'c', 'd']\n"
     ]
    }
   ],
   "source": [
    "a = ['a','b']\n",
    "b = ['c','d']\n",
    "c = [*a,*b]\n",
    "print(c)"
   ]
  },
  {
   "cell_type": "code",
   "execution_count": null,
   "id": "6375d89a",
   "metadata": {},
   "outputs": [],
   "source": [
    "a = ['a', 'b']\n",
    "b = ['c', 'd']\n",
    "c = a + b\n",
    "print(c)"
   ]
  }
 ],
 "metadata": {
  "kernelspec": {
   "display_name": "Python 3 (ipykernel)",
   "language": "python",
   "name": "python3"
  },
  "language_info": {
   "codemirror_mode": {
    "name": "ipython",
    "version": 3
   },
   "file_extension": ".py",
   "mimetype": "text/x-python",
   "name": "python",
   "nbconvert_exporter": "python",
   "pygments_lexer": "ipython3",
   "version": "3.11.5"
  }
 },
 "nbformat": 4,
 "nbformat_minor": 5
}
