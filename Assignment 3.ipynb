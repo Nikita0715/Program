{
 "cells": [
  {
   "cell_type": "markdown",
   "id": "a479ec7f",
   "metadata": {},
   "source": [
    "# Q.1 Solve the problem statement : \n",
    "If n is odd, print Weird\n",
    "If n is even and in the inclusive range of 2 to 5, print Not Weird\n",
    "If n is even and in the inclusive range of 6 to 20, print Weird\n",
    "If n is even and greater than 20, print Not Weird\n"
   ]
  },
  {
   "cell_type": "code",
   "execution_count": 4,
   "id": "1ecdddba",
   "metadata": {},
   "outputs": [],
   "source": [
    "def print_even_odd(n):\n",
    "    if n % 2 != 0:\n",
    "        print(\"Weird\")\n",
    "    elif n % 2 == 0 and 2 <= n <= 5:\n",
    "        print(\"Not Weird\")\n",
    "    elif n % 2 == 0 and 6 <= n <= 20:\n",
    "        print(\"Weird\")\n",
    "    elif n % 2 == 0 and n > 20:\n",
    "        print(\"Not Weird\")\n",
    "    "
   ]
  },
  {
   "cell_type": "code",
   "execution_count": 7,
   "id": "39c3f2c9",
   "metadata": {},
   "outputs": [
    {
     "name": "stdout",
     "output_type": "stream",
     "text": [
      "Enter the value5\n",
      "Weird\n"
     ]
    }
   ],
   "source": [
    "n = int(input(\"Enter the value\"))\n",
    "print_even_odd(n)"
   ]
  },
  {
   "cell_type": "markdown",
   "id": "83c47ec1",
   "metadata": {},
   "source": [
    "# Q.2 Solve this :\n",
    "The included code stub will read an integer, n, from STDIN. Without using any string methods, try to print the following: 123……..n\n",
    "Note that \"...\" represents the consecutive values in between.\n",
    "Example\n",
    "n = 5\n",
    "\n",
    "Print the string 12345 .\n",
    "\n",
    "Input Format\n",
    "The first line contains an integer n.\n",
    "\n",
    "Constraints\n",
    "1 ≤ n ≤ 150\n",
    "Output Format\n",
    "Print the list of integers from 1 through n as a string, without spaces."
   ]
  },
  {
   "cell_type": "code",
   "execution_count": 38,
   "id": "8c957931",
   "metadata": {},
   "outputs": [],
   "source": [
    "def print_num_string(n):\n",
    "    if (1 <= n <= 150):\n",
    "        for i in range(1, n+1):\n",
    "            print(i, end=\"\")\n",
    "    else:\n",
    "        print(\"Input value must be between 1 and 150.\")\n",
    "       \n"
   ]
  },
  {
   "cell_type": "code",
   "execution_count": 35,
   "id": "21f667ff",
   "metadata": {},
   "outputs": [
    {
     "name": "stdout",
     "output_type": "stream",
     "text": [
      "Enter the number: 120\n",
      "123456789101112131415161718192021222324252627282930313233343536373839404142434445464748495051525354555657585960616263646566676869707172737475767778798081828384858687888990919293949596979899100101102103104105106107108109110111112113114115116117118119120"
     ]
    }
   ],
   "source": [
    "n = int(input(\"Enter the number: \"))\n",
    "print_num_string(n)"
   ]
  },
  {
   "cell_type": "markdown",
   "id": "f4f57d53",
   "metadata": {},
   "source": [
    "# Q.3 Task Let’s learn about list comprehension! You are given three integers x, y, and z representing the dimensions of a cuboid along with an integer n. Print a list of all possible coordinates given by (i, j, k) on a 3D grid where the sum of i + j + k is not equal to n. Here, 0 <= i <= x; 0 <= j <= y; 0 <= k <= z. Please use list comprehensions rather than multiple loops, as a learning exercise.\n",
    "\n",
    "Example\n",
    "x = 1\n",
    "y = 1\n",
    "z = 2\n",
    "n = 3 \n",
    "\n",
    "All permutations of [i, j, k] are:\n",
    "[[0, 0, 0], [0, 0, 1], [0, 0, 2], [0, 1, 0], [0, 1, 1], [0, 1, 2], [1, 0, 0], [1, 0, 1], [1, 0, 2], [1, 1, 0], [1, 1, 1], [1, 1, 2]].\n",
    "Print an array of the elements that do not sum to n = 3.\n",
    "[[0, 0, 0], [0, 0, 1], [0, 0, 2], [0, 1, 0], [0, 1, 1], [1, 0, 0], [1, 0, 1],  [1, 1, 0],  [1, 1, 2]]\n",
    "Input Format\n",
    "Four integers x, y, z and n, each on a separate line.\n",
    "\n",
    "Constraints\n",
    "Print the list in lexicographic increasing order."
   ]
  },
  {
   "cell_type": "code",
   "execution_count": 43,
   "id": "c052f45a",
   "metadata": {},
   "outputs": [
    {
     "name": "stdout",
     "output_type": "stream",
     "text": [
      "Enter the value of x:1\n",
      "Enter the value of y:1\n",
      "Enter the value of z:2\n",
      "Enter the sum of x, y and z4\n",
      "[[0, 0, 0], [0, 0, 1], [0, 0, 2], [0, 1, 0], [0, 1, 1], [0, 1, 2], [1, 0, 0], [1, 0, 1], [1, 0, 2], [1, 1, 0], [1, 1, 1]]\n"
     ]
    }
   ],
   "source": [
    "x = int(input(\"Enter the value of x:\"))\n",
    "y = int(input(\"Enter the value of y:\"))\n",
    "z = int(input(\"Enter the value of z:\"))\n",
    "n = int(input(\"Enter the value\"))\n",
    "\n",
    "coordinates =[[i,j,k] for i in range(x+1) for j in range(y+1) for k in range(z+1) if(i+j+k)!=n]\n",
    "print(coordinates)"
   ]
  },
  {
   "cell_type": "markdown",
   "id": "bae52019",
   "metadata": {},
   "source": [
    "# Q.4 Task\n",
    "Given the participants’ score sheet for your University Sports Day, you must find the runner-up score. You are given n scores. Store them in a list and find the score of the runner-up.\n",
    "\n",
    "Input Format\n",
    "The first line contains n. The second line contains an array A[] of n integers are each separated by a space.\n",
    "Constraints\n",
    "2 ≤  n ≤  10\n",
    "-100 ≤  A[i] ≤ 100\n",
    "\n",
    "Output Format\n",
    "Print the runner-up score.\n",
    "\n",
    "Sample Input 0\n",
    "5\n",
    "\n",
    "2 3 6 6 5\n",
    "Sample Output 0\n",
    "5\n",
    " \n",
    "Explanation 0\n",
    "The given list is [2, 3, 6, 6, 5]. The maximum score is 6, the second maximum score is 5. Hence, we print 5 as the runner-up score.\n",
    "\n",
    "\n"
   ]
  },
  {
   "cell_type": "code",
   "execution_count": 96,
   "id": "cb0f0992",
   "metadata": {},
   "outputs": [],
   "source": [
    "def find_runner_up_score(scores_list):\n",
    "    max_score = max(scores_list)\n",
    "    while max_score in scores_list:\n",
    "        scores_list.remove(max_score)\n",
    "    if scores_list:\n",
    "        runner_up_score = max(scores_list)\n",
    "        return runner_up_score\n",
    "    else:\n",
    "        return \"No runner-up score found\"\n",
    "    \n"
   ]
  },
  {
   "cell_type": "code",
   "execution_count": 97,
   "id": "f6e19982",
   "metadata": {},
   "outputs": [
    {
     "name": "stdout",
     "output_type": "stream",
     "text": [
      "5\n"
     ]
    }
   ],
   "source": [
    "scores = [2, 3, 6, 6, 5]\n",
    "runner_up_score = find_runner_up_score(scores)\n",
    "print(runner_up_score)"
   ]
  },
  {
   "cell_type": "code",
   "execution_count": 98,
   "id": "04d27f85",
   "metadata": {},
   "outputs": [],
   "source": [
    "def find_runner_up_score1(scores_list):\n",
    "    unique_scores_set = set(scores_list)\n",
    "    \n",
    "    unique_scores_set.remove(max(unique_scores_set))\n",
    "    \n",
    "    runner_up_score = max(unique_scores_set)\n",
    "    \n",
    "    return runner_up_score"
   ]
  },
  {
   "cell_type": "code",
   "execution_count": 99,
   "id": "f78a172e",
   "metadata": {},
   "outputs": [
    {
     "name": "stdout",
     "output_type": "stream",
     "text": [
      "5\n"
     ]
    }
   ],
   "source": [
    "scores = [2, 3, 6, 6, 5]\n",
    "runner_up_score = find_runner_up_score1(scores)\n",
    "print(runner_up_score)"
   ]
  },
  {
   "cell_type": "markdown",
   "id": "917bfc51",
   "metadata": {},
   "source": [
    "# Q.5 Task\n",
    "\n",
    "Given the names and grades for each student in a class of N students, store them in a nested list and print the name(s) of any student(s) having the second lowest grade.\n",
    "\n",
    "\n",
    "Note: If there are multiple students with the second lowest grade, order their names alphabetically and print each name on a new line.\n",
    "\n",
    "Example\n",
    "records  = [[ “chi”, 20.0]], [“beta”, 50.0], [“alpha”, 50.0]\n",
    "\n",
    "The ordered list of scores is [20.0, 50.0], so the second lowest score is 50.0. There are two students with that score: [“beta”, “alpha”]. Ordered alphabetically, the names are printed as:\n",
    "\n",
    "alpha\n",
    "\n",
    "beta\n",
    " \n",
    "Input Format\n",
    "The first line contains an integer,n, the number of students.\n",
    "\n",
    "The 2N subsequent lines describe each student over lines.\n",
    "\n",
    "\n",
    "The first line contains a student’s name.\n",
    "The second line contains their grade.\n",
    "Constraints\n",
    "\n",
    "2 <= N <= 5\n",
    "There will always be one or more students having the second lowest grade.\n",
    " \n",
    "Output Format\n",
    "Print the name(s) of any student(s) having the second lowest grade in. If there are multiple students, order their names alphabetically and print each one on a new line.\n",
    "\n",
    "Sample Input 0\n",
    "5\n",
    "Harry\n",
    "37.21\n",
    "Berry\n",
    "37.21\n",
    "Tina\n",
    "37.2\n",
    "Akriti\n",
    "41\n",
    "Harsh\n",
    "39\n",
    "\n",
    "\n",
    "Sample Output 0\n",
    "Berry\n",
    "\n",
    "Harry\n"
   ]
  },
  {
   "cell_type": "code",
   "execution_count": 124,
   "id": "ff8cbb11",
   "metadata": {},
   "outputs": [
    {
     "name": "stdout",
     "output_type": "stream",
     "text": [
      "Enter the number of students: 5\n",
      "Enter the names and grades of each student:\n",
      "Enter student name: Harry\n",
      "Enter student grade: 37.21\n",
      "Enter student name: Berry\n",
      "Enter student grade: 37.21\n",
      "Enter student name: Tina\n",
      "Enter student grade: 37.2\n",
      "Enter student name: Akriti\n",
      "Enter student grade: 41\n",
      "Enter student name: Harsh\n",
      "Enter student grade: 39\n",
      "Students with the second lowest grade:\n",
      "Berry\n",
      "Harry\n"
     ]
    }
   ],
   "source": [
    "N = int(input(\"Enter the number of students: \"))\n",
    "\n",
    "student_records = []\n",
    "\n",
    "print(\"Enter the names and grades of each student:\")\n",
    "for _ in range(N):\n",
    "    name = input(\"Enter student name: \")\n",
    "    grade = float(input(\"Enter student grade: \"))\n",
    "    student_records.append([name, grade])\n",
    "\n",
    "student_records.sort(key=lambda x: x[1])\n",
    "\n",
    "second_lowest_grade = sorted(set(grade for name, grade in student_records))[1]\n",
    "\n",
    "students_with_second_lowest_grade = [name for name, grade in student_records if grade == second_lowest_grade]\n",
    "\n",
    "print(\"Students with the second lowest grade:\")\n",
    "for student_name in sorted(students_with_second_lowest_grade):\n",
    "    print(student_name)\n"
   ]
  },
  {
   "cell_type": "code",
   "execution_count": null,
   "id": "1dec6eec",
   "metadata": {},
   "outputs": [],
   "source": []
  }
 ],
 "metadata": {
  "kernelspec": {
   "display_name": "Python 3 (ipykernel)",
   "language": "python",
   "name": "python3"
  },
  "language_info": {
   "codemirror_mode": {
    "name": "ipython",
    "version": 3
   },
   "file_extension": ".py",
   "mimetype": "text/x-python",
   "name": "python",
   "nbconvert_exporter": "python",
   "pygments_lexer": "ipython3",
   "version": "3.11.5"
  }
 },
 "nbformat": 4,
 "nbformat_minor": 5
}
