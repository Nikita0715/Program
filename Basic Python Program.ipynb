{
 "cells": [
  {
   "cell_type": "markdown",
   "id": "3e79c7de",
   "metadata": {},
   "source": [
    "# Q.1 Write a program to check given number is even or odd ? "
   ]
  },
  {
   "cell_type": "code",
   "execution_count": 6,
   "id": "94129ac7",
   "metadata": {},
   "outputs": [
    {
     "name": "stdout",
     "output_type": "stream",
     "text": [
      "Enter the number 4\n",
      "Number is even\n"
     ]
    }
   ],
   "source": [
    "num = int(input(\"Enter the number \"))\n",
    "if(num %2==0):\n",
    "    print(\"Number is even\")\n",
    "else:\n",
    "    print(\"number is odd\")"
   ]
  },
  {
   "cell_type": "code",
   "execution_count": 5,
   "id": "3b5fa604",
   "metadata": {},
   "outputs": [
    {
     "name": "stdout",
     "output_type": "stream",
     "text": [
      "Enter the number :5\n",
      "5 is odd\n"
     ]
    }
   ],
   "source": [
    "def even_odd(num):\n",
    "    if(num%2==0):\n",
    "        print(f\"{num} is even\")\n",
    "    else:\n",
    "        print(f\"{num} is odd\")\n",
    "number = int(input(\"Enter the number :\"))\n",
    "even_odd(number)"
   ]
  },
  {
   "cell_type": "markdown",
   "id": "f4c6e27d",
   "metadata": {},
   "source": [
    "# Q.2  Write a program to check given character is a vowel or consonant ? "
   ]
  },
  {
   "cell_type": "code",
   "execution_count": 13,
   "id": "732fe247",
   "metadata": {},
   "outputs": [
    {
     "name": "stdout",
     "output_type": "stream",
     "text": [
      "Enter the character :Z\n",
      "character is consonant\n"
     ]
    }
   ],
   "source": [
    "char = input(\"Enter the character :\")\n",
    "if(char == 'a' or char == 'e' or char == 'i' or char == 'o' or char == 'u' or char == 'A' or char == 'E' or char == 'I' or char == 'O' or char == 'U'):\n",
    "    print(\"character is vowel\")\n",
    "else:\n",
    "    print(\"character is consonant\")\n"
   ]
  },
  {
   "cell_type": "code",
   "execution_count": 14,
   "id": "91cc496b",
   "metadata": {},
   "outputs": [
    {
     "name": "stdout",
     "output_type": "stream",
     "text": [
      "Enter the character :A\n",
      "character is vowel\n"
     ]
    }
   ],
   "source": [
    "char = input(\"Enter the character :\")\n",
    "vowels = ['a','e','i','o','u','A','E','I','O',\"U\"]\n",
    "if char in vowels:\n",
    "     print(\"character is vowel\")\n",
    "else:\n",
    "    print(\"character is consonant\")"
   ]
  },
  {
   "cell_type": "code",
   "execution_count": 26,
   "id": "07bf873b",
   "metadata": {},
   "outputs": [
    {
     "name": "stdout",
     "output_type": "stream",
     "text": [
      "Enter the character :a\n",
      "character is vowel\n"
     ]
    }
   ],
   "source": [
    "char = input(\"Enter the character :\")\n",
    "vowels = ['a','e','i','o','u','A','E','I','O',\"U\"]\n",
    "isVowel =False\n",
    "for i in vowels:\n",
    "    if(i == char):\n",
    "        isVowel = True\n",
    "        break\n",
    "if isVowel:\n",
    "    print(\"character is vowel\")\n",
    "else:\n",
    "     print(\"character is consonant\")\n",
    "      "
   ]
  },
  {
   "cell_type": "code",
   "execution_count": 27,
   "id": "f99eb884",
   "metadata": {},
   "outputs": [],
   "source": [
    "vowels = ['a','e','i','o','u','A','E','I','O',\"U\"]\n",
    "def check_vowel_consonant(char):\n",
    "    if char in vowels:\n",
    "        print(\"character is vowel\")\n",
    "    else:\n",
    "        print(\"character is consonant\")\n",
    "        \n",
    "    "
   ]
  },
  {
   "cell_type": "code",
   "execution_count": 30,
   "id": "de044665",
   "metadata": {},
   "outputs": [
    {
     "name": "stdout",
     "output_type": "stream",
     "text": [
      "Enter the character :z\n",
      "character is consonant\n"
     ]
    }
   ],
   "source": [
    "char = input(\"Enter the character :\")\n",
    "check_vowel_consonant(char)"
   ]
  },
  {
   "cell_type": "markdown",
   "id": "39cd9d59",
   "metadata": {},
   "source": [
    "# Q.3 Write a program to count vowels and consonants in the string ?"
   ]
  },
  {
   "cell_type": "code",
   "execution_count": 69,
   "id": "d262a634",
   "metadata": {},
   "outputs": [],
   "source": [
    "vowels = ['a', 'e', 'i', 'o', 'u', 'A', 'E', 'I', 'O', 'U']\n",
    "\n",
    "def check_vowel_consonant_count(string):\n",
    "    vowel_count = 0\n",
    "    consonant_count = 0\n",
    "    \n",
    "    for char in string:\n",
    "        if char in vowels:\n",
    "            vowel_count += 1\n",
    "        else:\n",
    "            consonant_count += 1\n",
    "            \n",
    "    print(\"Vowel Count is:\", vowel_count)\n",
    "    print(\"Consonant Count is:\", consonant_count)"
   ]
  },
  {
   "cell_type": "code",
   "execution_count": 70,
   "id": "28a45ac3",
   "metadata": {},
   "outputs": [
    {
     "name": "stdout",
     "output_type": "stream",
     "text": [
      "Enter a string: Hello world\n",
      "Vowel Count is: 3\n",
      "Consonant Count is: 8\n"
     ]
    }
   ],
   "source": [
    "input_string = input(\"Enter a string: \")\n",
    "check_vowel_consonant_count(input_string)"
   ]
  },
  {
   "cell_type": "markdown",
   "id": "a450e807",
   "metadata": {},
   "source": [
    "# Q.4 Write a program to remove spaces from string without inbuilt function ?"
   ]
  },
  {
   "cell_type": "code",
   "execution_count": 85,
   "id": "ee27b9d0",
   "metadata": {},
   "outputs": [
    {
     "name": "stdout",
     "output_type": "stream",
     "text": [
      "Enter the sentenceHello World\n",
      " HelloWorld\n"
     ]
    }
   ],
   "source": [
    "a = input(\"Enter the sentence\")\n",
    "b = a.split(\" \")\n",
    "c =\" \"\n",
    "for i in b:\n",
    "    c +=i\n",
    "print(c)"
   ]
  },
  {
   "cell_type": "code",
   "execution_count": 83,
   "id": "9be2ad73",
   "metadata": {},
   "outputs": [],
   "source": [
    "def remove_spaces(input_string):\n",
    "    words = input_string.split(\" \")\n",
    "    result = \"\"\n",
    "    \n",
    "    for word in words:\n",
    "        result += word\n",
    "    \n",
    "    return result"
   ]
  },
  {
   "cell_type": "code",
   "execution_count": 86,
   "id": "32c539f1",
   "metadata": {},
   "outputs": [
    {
     "name": "stdout",
     "output_type": "stream",
     "text": [
      "Enter the sentence: Hello world\n",
      "Sentence without spaces: Helloworld\n"
     ]
    }
   ],
   "source": [
    "input_sentence = input(\"Enter the sentence: \")\n",
    "sentence_without_spaces = remove_spaces(input_sentence)\n",
    "print(\"Sentence without spaces:\", sentence_without_spaces)"
   ]
  },
  {
   "cell_type": "code",
   "execution_count": null,
   "id": "d1a26dfe",
   "metadata": {},
   "outputs": [],
   "source": []
  }
 ],
 "metadata": {
  "kernelspec": {
   "display_name": "Python 3 (ipykernel)",
   "language": "python",
   "name": "python3"
  },
  "language_info": {
   "codemirror_mode": {
    "name": "ipython",
    "version": 3
   },
   "file_extension": ".py",
   "mimetype": "text/x-python",
   "name": "python",
   "nbconvert_exporter": "python",
   "pygments_lexer": "ipython3",
   "version": "3.11.5"
  }
 },
 "nbformat": 4,
 "nbformat_minor": 5
}
